{
 "cells": [
  {
   "cell_type": "code",
   "execution_count": 1,
   "id": "65e99107",
   "metadata": {},
   "outputs": [],
   "source": [
    "import sys, pickle, ast\n",
    "from pathlib import Path\n",
    "import numpy as np\n",
    "from tqdm import tqdm"
   ]
  },
  {
   "cell_type": "code",
   "execution_count": 2,
   "id": "7eb9db9a",
   "metadata": {},
   "outputs": [],
   "source": [
    "problem_folder = '../problems/WSCP_time_dependent'"
   ]
  },
  {
   "cell_type": "markdown",
   "id": "6e123d84",
   "metadata": {},
   "source": [
    "# Load data"
   ]
  },
  {
   "cell_type": "code",
   "execution_count": 3,
   "id": "4fcf0137",
   "metadata": {},
   "outputs": [],
   "source": [
    "project_root = Path().resolve().parent\n",
    "sys.path.insert(0, str(project_root))\n",
    "\n",
    "from utils.EM_algorithm import build_EM_df, EM_algorithm\n",
    "from utils.filtering import maximal_component_selection\n",
    "\n",
    "problem_folder = project_root / 'problems' / 'WSCP_time_dependent'\n",
    "is_minimization = ast.literal_eval((problem_folder / 'problem_specification' / 'minimization.txt').read_text())\n",
    "\n",
    "candidates = list((problem_folder).glob('solvers_*.pkl'))\n",
    "assert len(candidates) == 1, f\"Expected 1 solvers_*.pkl, found {len(candidates)}: {candidates}\"\n",
    "solvers_file = candidates[0]\n",
    "with open(solvers_file, 'rb') as file:\n",
    "    solvers = pickle.load(file)"
   ]
  },
  {
   "cell_type": "markdown",
   "id": "666c7e2a",
   "metadata": {},
   "source": [
    "# Helper function"
   ]
  },
  {
   "cell_type": "code",
   "execution_count": 4,
   "id": "cf5b52ec",
   "metadata": {},
   "outputs": [],
   "source": [
    "def run_selection(n_solvers, n_instances, n_validity_tests):\n",
    "    # Sample desired number of solvers, instances, and validity tests\n",
    "    indexes_solvers = np.random.choice(len(solvers), size=n_solvers, replace=True).tolist()\n",
    "    reduced_to_original_id  = {j: idx for j, idx in enumerate(indexes_solvers)}\n",
    "    indexes_instances = (np.random.choice(len(solvers[0][\"outputs\"]), size=n_instances, replace=True).tolist())\n",
    "    indexes_validity_tests = (np.random.choice(len(solvers[0][\"validity_tests\"]), size=n_validity_tests, replace=True).tolist())\n",
    "\n",
    "    solver_samples = []\n",
    "    optimal_sampled = 0\n",
    "    for i in indexes_solvers:\n",
    "        solver = {}\n",
    "        solver[\"outputs\"] = [solvers[i][\"outputs\"][j] for j in indexes_instances]\n",
    "        solver[\"interpretable_outputs\"] = [solvers[i][\"interpretable_outputs\"][j] for j in indexes_instances]\n",
    "        solver[\"validity_tests\"] = [[solvers[i][\"validity_tests\"][l][j] for j in indexes_instances] for l in indexes_validity_tests]\n",
    "        solver['correct'] = solvers[i][\"correct\"]\n",
    "        solver['executable'] = solvers[i][\"executable\"]\n",
    "        solver_samples.append(solver)\n",
    "        optimal_sampled += solvers[i][\"correct\"]\n",
    "\n",
    "    try:\n",
    "        # Filter components\n",
    "        S, I, T = maximal_component_selection(solver_samples)\n",
    "        # Build the DataFrame for EM algorithm containing interpretable components\n",
    "        df, compact_to_reduced_id = build_EM_df(solver_samples, S, I, T)\n",
    "    except Exception as e:\n",
    "        return [[i, -1] for i in indexes_solvers], None, optimal_sampled\n",
    "    if df.empty:\n",
    "        return [[i, -1] for i in indexes_solvers], None, optimal_sampled\n",
    "\n",
    "    # Run EM algorithm\n",
    "    priors = {\n",
    "        \"lambda\": (1, 1),\n",
    "        \"alpha_s\": (1, 1),\n",
    "        \"beta_s\": (1, 1),\n",
    "        \"gamma_s\": (1, 1),\n",
    "        \"p0\": (1, 1),\n",
    "        \"p1\": (20, 1),\n",
    "    }\n",
    "    nS = len(compact_to_reduced_id[\"solvers\"])\n",
    "    nI = len(compact_to_reduced_id[\"instances\"])\n",
    "    nT = len(compact_to_reduced_id[\"tests\"])\n",
    "    results_em = EM_algorithm(df, priors, nS, nI, nT, max_iter=100)\n",
    "\n",
    "    # Compute scalarized objective\n",
    "    parameters = {}\n",
    "\n",
    "    obj_max = 1e3\n",
    "    for s_id in range(len(results_em['alpha_s'])):\n",
    "        reduced_id = compact_to_reduced_id[\"solvers\"][s_id]\n",
    "        for j in range(results_em['fsi'].shape[1]):\n",
    "            o = solver_samples[reduced_id][\"outputs\"][compact_to_reduced_id[\"instances\"][j]]\n",
    "            if o[\"status\"] == \"OPTIMAL\":\n",
    "                obj_max = max(abs(obj_max), o[\"objective_value\"])\n",
    "\n",
    "    P_inf = 10 * obj_max\n",
    "    P_miss = 10 * obj_max\n",
    "    lambd = results_em['lambda']\n",
    "\n",
    "    for s_id in range(len(results_em['alpha_s'])):\n",
    "        alpha = results_em['alpha_s'][s_id]\n",
    "        beta = results_em['beta_s'][s_id]\n",
    "        gamma = results_em['gamma_s'][s_id]\n",
    "\n",
    "        reduced_id = compact_to_reduced_id[\"solvers\"][s_id]\n",
    "        solver = solver_samples[reduced_id]\n",
    "        num = 0\n",
    "        den = 0\n",
    "        for j in range(results_em['fsi'].shape[1]):\n",
    "            o = solver[\"outputs\"][compact_to_reduced_id[\"instances\"][j]]\n",
    "            if o[\"status\"] == \"OPTIMAL\":\n",
    "                num += o[\"objective_value\"] * results_em['fsi'][s_id, j]\n",
    "                den += results_em['fsi'][s_id, j]\n",
    "\n",
    "        conditional_objective = num / den * (-1,1)[is_minimization] if den > 1e-5 else (obj_max)\n",
    "\n",
    "        Vs = ((1-lambd) * alpha * P_inf + lambd * (beta * P_miss + (1-beta) * (gamma * conditional_objective + (1-gamma) * P_inf)))\n",
    "        parameters[reduced_to_original_id[reduced_id]] = {\n",
    "            \"alpha\": alpha,\n",
    "            \"beta\": beta,\n",
    "            \"gamma\": gamma,\n",
    "            \"conditional_objective\": conditional_objective,\n",
    "            \"Vs\": Vs\n",
    "        }\n",
    "    \n",
    "    ranking = sorted(parameters.items(), key=lambda item: item[1][\"Vs\"])\n",
    "\n",
    "    return ranking, results_em, optimal_sampled"
   ]
  },
  {
   "cell_type": "markdown",
   "id": "c0f1dcc1",
   "metadata": {},
   "source": [
    "# Run boostrapping"
   ]
  },
  {
   "cell_type": "code",
   "execution_count": 7,
   "id": "d0a0c9e5",
   "metadata": {},
   "outputs": [
    {
     "name": "stderr",
     "output_type": "stream",
     "text": [
      "100%|██████████| 1000/1000 [01:33<00:00, 10.74it/s]\n"
     ]
    }
   ],
   "source": [
    "n_solvers = 50\n",
    "n_instances = 50\n",
    "n_validity_tests = 50\n",
    "n_runs = 1000\n",
    "\n",
    "results = {\n",
    "    \"optimal_rate\": 0,\n",
    "    \"feasible_rate\": 0,\n",
    "    \"executable_rate\": 0,\n",
    "    \"interpretable_rate\": 0,\n",
    "}\n",
    "\n",
    "for run_id in tqdm(range(n_runs)):\n",
    "    ranking, results_em, optimal_sampled = run_selection(n_solvers = 50, n_instances = 50, n_validity_tests = 50)\n",
    "    selected_solver = solvers[ranking[0][0]]\n",
    "    results[\"optimal_rate\"] += selected_solver[\"correct\"] / n_runs\n",
    "    results[\"feasible_rate\"] += selected_solver[\"feasible\"] / n_runs\n",
    "    results[\"executable_rate\"] += selected_solver[\"executable\"] / n_runs\n",
    "    results[\"interpretable_rate\"] += selected_solver[\"interpretable\"] / n_runs"
   ]
  },
  {
   "cell_type": "markdown",
   "id": "cebf4413",
   "metadata": {},
   "source": [
    "# Report"
   ]
  },
  {
   "cell_type": "code",
   "execution_count": 10,
   "id": "f12a1da3",
   "metadata": {},
   "outputs": [
    {
     "name": "stdout",
     "output_type": "stream",
     "text": [
      "--------------- Backbone LLM ----------------\n",
      "Optimality rate: 0.03\n",
      "Feasibility rate: 0.12\n",
      "Executability rate: 0.95\n",
      "Interpretability rate: 0.95\n",
      "--------------- OptiHive --------------------\n",
      "Optimality rate: 0.640\n",
      "Feasibility rate: 0.749\n",
      "Executability rate: 1.000\n",
      "Interpretability rate: 1.000\n",
      "---------------------------------------------\n"
     ]
    }
   ],
   "source": [
    "print('-'*15 + ' Backbone LLM ' + '-'*16)\n",
    "print(f\"Optimality rate: {np.mean([solver['correct'] for solver in solvers])}\")\n",
    "print(f\"Feasibility rate: {np.mean([solver['feasible'] for solver in solvers])}\")\n",
    "print(f\"Executability rate: {np.mean([solver['executable'] for solver in solvers])}\")\n",
    "print(f\"Interpretability rate: {np.mean([solver['interpretable'] for solver in solvers])}\")\n",
    "print('-'*15 + ' OptiHive ' + '-'*20)\n",
    "print(f\"Optimality rate: {results['optimal_rate']:.3f}\")\n",
    "print(f\"Feasibility rate: {results['feasible_rate']:.3f}\")\n",
    "print(f\"Executability rate: {results['executable_rate']:.3f}\")\n",
    "print(f\"Interpretability rate: {results['interpretable_rate']:.3f}\")\n",
    "print('-'*45)"
   ]
  },
  {
   "cell_type": "code",
   "execution_count": null,
   "id": "17434f5c",
   "metadata": {},
   "outputs": [],
   "source": []
  }
 ],
 "metadata": {
  "kernelspec": {
   "display_name": "rq",
   "language": "python",
   "name": "python3"
  },
  "language_info": {
   "codemirror_mode": {
    "name": "ipython",
    "version": 3
   },
   "file_extension": ".py",
   "mimetype": "text/x-python",
   "name": "python",
   "nbconvert_exporter": "python",
   "pygments_lexer": "ipython3",
   "version": "3.9.23"
  }
 },
 "nbformat": 4,
 "nbformat_minor": 5
}
