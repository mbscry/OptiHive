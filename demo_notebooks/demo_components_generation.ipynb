{
 "cells": [
  {
   "cell_type": "code",
   "execution_count": 4,
   "id": "fd44bbc8",
   "metadata": {},
   "outputs": [],
   "source": [
    "import sys, pathlib, os, pickle, ast\n",
    "import numpy as np\n",
    "from tqdm import tqdm\n",
    "from func_timeout import func_timeout, FunctionTimedOut"
   ]
  },
  {
   "cell_type": "markdown",
   "id": "ac665a75",
   "metadata": {},
   "source": [
    "# Parameters"
   ]
  },
  {
   "cell_type": "code",
   "execution_count": null,
   "id": "61c88a27",
   "metadata": {},
   "outputs": [],
   "source": [
    "# Provide your OpenAI API key here\n",
    "os.environ[\"OPENAI_API_KEY\"] = \"\""
   ]
  },
  {
   "cell_type": "code",
   "execution_count": 6,
   "id": "93103a52",
   "metadata": {},
   "outputs": [],
   "source": [
    "solver_model = \"gpt-4.1-mini\"\n",
    "instance_model = \"gpt-4.1-mini\"\n",
    "test_model = \"gpt-4.1-mini\"\n",
    "\n",
    "SOLVERS_BATCH_SIZE = 10"
   ]
  },
  {
   "cell_type": "markdown",
   "id": "39c04b6c",
   "metadata": {},
   "source": [
    "# Load problem data"
   ]
  },
  {
   "cell_type": "code",
   "execution_count": 7,
   "id": "b48e2579",
   "metadata": {},
   "outputs": [],
   "source": [
    "problem_folder = '../problems/WSCP_time_dependent'\n",
    "problem_data_file = f\"{problem_folder}/problem_data.pkl\""
   ]
  },
  {
   "cell_type": "code",
   "execution_count": 12,
   "id": "85ef4b36",
   "metadata": {},
   "outputs": [],
   "source": [
    "project_root = pathlib.Path().resolve().parent\n",
    "sys.path.insert(0, str(project_root))\n",
    "from utils.generation import generate_solvers, generate_instance, generate_validity_tests, execute_code, compute_outputs, run_validity_tests\n",
    "\n",
    "problem_path = pathlib.Path().resolve() / problem_folder\n",
    "sys.path.insert(0, str(problem_path))\n",
    "from feasibility import evaluate_feasibility"
   ]
  },
  {
   "cell_type": "code",
   "execution_count": 13,
   "id": "008bbada",
   "metadata": {},
   "outputs": [],
   "source": [
    "if os.path.exists(problem_data_file):\n",
    "    with open(problem_data_file, 'rb') as file:\n",
    "        problem_data = pickle.load(file)\n",
    "else:\n",
    "    problem_data = {'name': problem_folder.split('/')[-1]}\n",
    "    with open(f\"{problem_folder}/problem_specification/description.txt\", 'r') as file:\n",
    "        problem_data['problem_description'] = file.read()\n",
    "    with open(f\"{problem_folder}/problem_specification/input_template.txt\", 'r') as file:\n",
    "        problem_data['input_template'] = file.read()\n",
    "    with open(f\"{problem_folder}/problem_specification/output_template.txt\", 'r') as file:\n",
    "        problem_data['output_template'] = file.read()\n",
    "    with open(f\"{problem_folder}/problem_specification/minimization.txt\", 'r') as file:\n",
    "        problem_data['minimization'] = ast.literal_eval(file.read())\n",
    "\n",
    "problem_data['evaluate_feasibility'] = evaluate_feasibility \n",
    "\n",
    "with open(problem_data_file, 'wb') as file:\n",
    "    pickle.dump(problem_data, file)"
   ]
  },
  {
   "cell_type": "markdown",
   "id": "ebef8f0b",
   "metadata": {},
   "source": [
    "# Helper functions"
   ]
  },
  {
   "cell_type": "markdown",
   "id": "3f26d385",
   "metadata": {},
   "source": [
    "**generate_elements**: produces n_solvers, n_instances, and n_validity_tests solvers, instances, and tests, respectively.\n",
    "\n",
    "**evaluate**:\n",
    "1. Evaluate the ground-truth of solvers (optimal, feasible, executable, interpretable) via the validation set.\n",
    "2. Compute the solution produced by every solver-instance pairs.\n",
    "3. Run all tests on all interpretable solutions."
   ]
  },
  {
   "cell_type": "code",
   "execution_count": 14,
   "id": "a6d6fed1",
   "metadata": {},
   "outputs": [],
   "source": [
    "def generate_components(problem_data, n_solvers, n_instances, n_tests):\n",
    "    print(\"Generating components...\")\n",
    "    solvers_file = f\"{problem_folder}/solvers_{solver_model}.pkl\"\n",
    "    instances_file = f\"{problem_folder}/instances_{instance_model}.pkl\"\n",
    "    validity_tests_file = f\"{problem_folder}/validity_tests_{test_model}.pkl\"\n",
    "    if not os.path.exists(solvers_file):\n",
    "        os.makedirs(os.path.dirname(solvers_file), exist_ok=True)\n",
    "\n",
    "    # Load existing components\n",
    "    if os.path.exists(solvers_file):\n",
    "        with open(solvers_file, \"rb\") as file:\n",
    "            solvers = pickle.load(file)\n",
    "    else:\n",
    "        solvers = []\n",
    "        with open(solvers_file, \"wb\") as file:\n",
    "            pickle.dump(solvers, file)\n",
    "\n",
    "    if os.path.exists(instances_file):\n",
    "        with open(instances_file, \"rb\") as file:\n",
    "            instances = pickle.load(file)\n",
    "    else:\n",
    "        instances = []\n",
    "        with open(instances_file, \"wb\") as file:\n",
    "            pickle.dump(instances, file)\n",
    "\n",
    "    if os.path.exists(validity_tests_file):\n",
    "        with open(validity_tests_file, \"rb\") as file:\n",
    "            validity_tests = pickle.load(file)\n",
    "    else:\n",
    "        validity_tests = []\n",
    "        with open(validity_tests_file, \"wb\") as file:\n",
    "            pickle.dump(validity_tests, file)\n",
    "\n",
    "    # Generate solvers by batches of SOLVERS_BATCH_SIZE\n",
    "    while len(solvers) < n_solvers:\n",
    "        solvers = generate_solvers(\n",
    "            solvers_file,\n",
    "            problem_data,\n",
    "            model = solver_model,\n",
    "            n_solvers = min(n_solvers, len(solvers) + SOLVERS_BATCH_SIZE),\n",
    "            verification = False,\n",
    "            helper = False,\n",
    "            provided_llm=None\n",
    "        )\n",
    "        with open(solvers_file, \"rb\") as file:\n",
    "            solvers = pickle.load(file)\n",
    "\n",
    "    # Generate instances\n",
    "    instances = generate_instance(\n",
    "        problem_data,\n",
    "        instances_file,\n",
    "        instance_model,\n",
    "        n_instances\n",
    "    )\n",
    "\n",
    "    # Generate validity tests\n",
    "    validity_tests = generate_validity_tests(\n",
    "        problem_data,\n",
    "        validity_tests_file,\n",
    "        test_model,\n",
    "        n_tests\n",
    "    )\n",
    "    print(\"Components loaded/generated successfully.\")\n",
    "\n",
    "\n",
    "def evaluate(problem_data, verbose = False):\n",
    "    solvers_file = f\"{problem_folder}/solvers_{solver_model}.pkl\"\n",
    "    instances_file = f\"{problem_folder}/instances_{instance_model}.pkl\"\n",
    "    validity_tests_file = f\"{problem_folder}/validity_tests_{test_model}.pkl\"\n",
    "\n",
    "    with open(solvers_file, \"rb\") as file:\n",
    "        solvers = pickle.load(file)\n",
    "\n",
    "    for solver in tqdm(solvers, desc=\"Evaluating solvers\"):\n",
    "        is_correct = True\n",
    "        is_feasible = True\n",
    "        executable = False\n",
    "        interpretable = False\n",
    "        crash = False\n",
    "        for instance in problem_data[\"validation_set\"]:\n",
    "            data = instance['data']\n",
    "            try:\n",
    "                with np.errstate(invalid=\"ignore\"):\n",
    "                    r = func_timeout(10, execute_code, args=(solver[\"code\"], 'solve', [data]))\n",
    "                    if r[0] == 0:\n",
    "                        executable = True\n",
    "                        if \"status\" in r[1]:\n",
    "                            interpretable = True\n",
    "                        else:\n",
    "                            is_feasible = False\n",
    "                    else:\n",
    "                        is_correct = False\n",
    "                        is_feasible = False\n",
    "                        crash = True\n",
    "                    r = r[1]\n",
    "                    if r[\"status\"] == \"INFEASIBLE\":\n",
    "                        if instance['status'] != \"INFEASIBLE\":\n",
    "                            is_correct = False\n",
    "                    else:\n",
    "                        if instance['status']==\"INFEASIBLE\" or abs(r[\"objective_value\"] - instance['objective_value']) / instance['objective_value'] > 1e-3:\n",
    "                            is_correct = False\n",
    "                        if problem_data['evaluate_feasibility'](data, r) != True:\n",
    "                            is_feasible = False\n",
    "                            is_correct = False\n",
    "            except FunctionTimedOut:\n",
    "                is_correct = False\n",
    "                is_feasible = False\n",
    "                break\n",
    "            except Exception as e:\n",
    "                is_correct = False\n",
    "                is_feasible = False\n",
    "                crash = True\n",
    "                break\n",
    "\n",
    "        solver[\"correct\"] = is_correct\n",
    "        solver[\"executable\"] = executable\n",
    "        solver[\"interpretable\"] = interpretable\n",
    "        solver[\"crash\"] = crash\n",
    "        solver[\"feasible\"] = is_feasible\n",
    "\n",
    "        with open(solvers_file, \"wb\") as file:\n",
    "            pickle.dump(solvers, file)\n",
    "\n",
    "    if verbose:\n",
    "        n_solvers = len(solvers)\n",
    "        print('-'*30)\n",
    "        print(\"# solvers =\", n_solvers)\n",
    "        print(\"% correct =\", sum(solver['correct'] for solver in solvers) / n_solvers * 100)\n",
    "        print(\"% feasible =\", sum(solver['feasible'] for solver in solvers) / n_solvers * 100)\n",
    "        print(\"% executable =\", sum(solver['executable'] for solver in solvers) / n_solvers * 100)\n",
    "        print(\"% interpretable =\", sum(solver['interpretable'] for solver in solvers) / n_solvers * 100)\n",
    "        print(\"% crashed =\", sum(solver['crash'] for solver in solvers) / n_solvers * 100)\n",
    "        print('-'*30)\n",
    "\n",
    "    solvers = compute_outputs(solvers_file, instances_file)\n",
    "    solvers = run_validity_tests(solvers_file, validity_tests_file, instances_file, time_limit=1)\n",
    "\n",
    "    return solvers"
   ]
  },
  {
   "cell_type": "markdown",
   "id": "823804bc",
   "metadata": {},
   "source": [
    "# Generate, evaluate and save components"
   ]
  },
  {
   "cell_type": "code",
   "execution_count": 10,
   "id": "fc3272ca",
   "metadata": {},
   "outputs": [
    {
     "name": "stdout",
     "output_type": "stream",
     "text": [
      "Generating components...\n",
      "Components loaded/generated successfully.\n"
     ]
    },
    {
     "name": "stderr",
     "output_type": "stream",
     "text": [
      "Evaluating solvers: 100%|██████████| 100/100 [00:54<00:00,  1.84it/s]\n"
     ]
    },
    {
     "name": "stdout",
     "output_type": "stream",
     "text": [
      "------------------------------\n",
      "# solvers = 100\n",
      "% correct = 3.0\n",
      "% feasible = 12.0\n",
      "% executable = 95.0\n",
      "% interpretable = 95.0\n",
      "% crashed = 5.0\n",
      "------------------------------\n"
     ]
    },
    {
     "name": "stderr",
     "output_type": "stream",
     "text": [
      "Computing outputs of solver-instances pairs: 100%|██████████| 100/100 [00:27<00:00,  3.60it/s]\n",
      "Running validity tests: 100%|██████████| 100/100 [12:38<00:00,  7.59s/it]\n"
     ]
    }
   ],
   "source": [
    "n_solvers = 100\n",
    "n_instances = 100\n",
    "n_validity_tests = 100\n",
    "\n",
    "generate_components(problem_data, n_solvers, n_instances, n_validity_tests)\n",
    "evaluate(problem_data, verbose=True);"
   ]
  }
 ],
 "metadata": {
  "kernelspec": {
   "display_name": "rq",
   "language": "python",
   "name": "python3"
  },
  "language_info": {
   "codemirror_mode": {
    "name": "ipython",
    "version": 3
   },
   "file_extension": ".py",
   "mimetype": "text/x-python",
   "name": "python",
   "nbconvert_exporter": "python",
   "pygments_lexer": "ipython3",
   "version": "3.9.23"
  }
 },
 "nbformat": 4,
 "nbformat_minor": 5
}
